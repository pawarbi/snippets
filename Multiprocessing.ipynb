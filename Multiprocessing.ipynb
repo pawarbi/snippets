{
 "cells": [
  {
   "cell_type": "markdown",
   "id": "ff47db36",
   "metadata": {},
   "source": [
    "# Quick Multi-Processing Tests"
   ]
  },
  {
   "cell_type": "code",
   "execution_count": 1,
   "id": "b91cb152",
   "metadata": {},
   "outputs": [],
   "source": [
    "import numpy as np\n",
    "import matplotlib.pyplot as plt\n",
    "from concurrent.futures import ThreadPoolExecutor, ProcessPoolExecutor\n",
    "import time\n",
    "import numba\n",
    "import pandas as pd\n",
    "\n",
    "import pyspark\n",
    "from pyspark.sql import SparkSession"
   ]
  },
  {
   "cell_type": "markdown",
   "id": "a3e62b66",
   "metadata": {},
   "source": [
    "Defining a an arbitrary function for testing. The function doesn't mean anything."
   ]
  },
  {
   "cell_type": "code",
   "execution_count": 2,
   "id": "901d2ecf",
   "metadata": {},
   "outputs": [],
   "source": [
    "def fun(x):\n",
    "    return x * np.sin(10*x) + np.tan(34*x) + np.log(x)"
   ]
  },
  {
   "cell_type": "code",
   "execution_count": 3,
   "id": "88e80cba",
   "metadata": {},
   "outputs": [
    {
     "data": {
      "text/plain": [
       "-1.9050256839815027"
      ]
     },
     "execution_count": 3,
     "metadata": {},
     "output_type": "execute_result"
    }
   ],
   "source": [
    "#Calcluate a value for testing\n",
    "fun(10)"
   ]
  },
  {
   "cell_type": "code",
   "execution_count": 4,
   "id": "f1f14fc6",
   "metadata": {},
   "outputs": [
    {
     "data": {
      "image/png": "[encoded data removed]",
      "text/plain": [
       "<Figure size 432x288 with 1 Axes>"
      ]
     },
     "metadata": {
      "needs_background": "light"
     },
     "output_type": "display_data"
    }
   ],
   "source": [
    "#Plot the function, for testing\n",
    "x = np.arange(0.1,10,0.5)\n",
    "plt.plot(x,fun(x));"
   ]
  },
  {
   "cell_type": "markdown",
   "id": "d3047704",
   "metadata": {},
   "source": [
    "### Benchmark \n",
    "\n",
    "Without any parallelism, for comparison purposes"
   ]
  },
  {
   "cell_type": "code",
   "execution_count": 5,
   "id": "d8d22ccf",
   "metadata": {},
   "outputs": [
    {
     "name": "stdout",
     "output_type": "stream",
     "text": [
      "652 ms ± 2.79 ms per loop (mean ± std. dev. of 7 runs, 1 loop each)\n"
     ]
    }
   ],
   "source": [
    "%%timeit\n",
    "n = int(1e7) ## Using a large number to iterate\n",
    "\n",
    "def f(n):\n",
    "    x = np.random.random(n)\n",
    "    y = (x * np.sin(10*x) + np.tan(34*x) + np.log(x))\n",
    "    \n",
    "    \n",
    "    return y\n",
    "f(n)"
   ]
  },
  {
   "cell_type": "markdown",
   "id": "264b0cf3",
   "metadata": {},
   "source": [
    "652 ms without parallel processing"
   ]
  },
  {
   "cell_type": "markdown",
   "id": "ab267c26",
   "metadata": {},
   "source": [
    "### ProcessPool Execution"
   ]
  },
  {
   "cell_type": "markdown",
   "id": "9b18a0a4",
   "metadata": {},
   "source": [
    "[ProcessPoolExecutor](https://docs.python.org/3/library/concurrent.futures.html) uses executes the processes asynchronously by using the number of processors assigned, in parallel."
   ]
  },
  {
   "cell_type": "code",
   "execution_count": 20,
   "id": "9346f07c",
   "metadata": {},
   "outputs": [
    {
     "name": "stdout",
     "output_type": "stream",
     "text": [
      "Wall time: 312 ms\n"
     ]
    }
   ],
   "source": [
    "%%time\n",
    "\n",
    "with ProcessPoolExecutor(max_workers=4) as executor:\n",
    "    result = executor.map(f, [int(1e7) for i in range(10)])"
   ]
  },
  {
   "cell_type": "markdown",
   "id": "99a4a71a",
   "metadata": {},
   "source": [
    "Execution time dropped from 717 ms to 312 ms! This can be further optimized by specifying the number of processors to use and the chunk size. I will skip that for now."
   ]
  },
  {
   "cell_type": "markdown",
   "id": "8e637081",
   "metadata": {},
   "source": [
    "### ThreadPool Execution"
   ]
  },
  {
   "cell_type": "markdown",
   "id": "de2ca9d5",
   "metadata": {},
   "source": [
    "Similar to `ProcessPool` but uses threads instead of CPU."
   ]
  },
  {
   "cell_type": "code",
   "execution_count": 23,
   "id": "4a4add0f",
   "metadata": {},
   "outputs": [
    {
     "name": "stdout",
     "output_type": "stream",
     "text": [
      "Wall time: 3.67 s\n"
     ]
    }
   ],
   "source": [
    "%%time\n",
    "\n",
    "with ThreadPoolExecutor(max_workers=4) as texecute:\n",
    "    result_t = texecute.map(f, [int(1e7) for i in range(10)])"
   ]
  },
  {
   "cell_type": "markdown",
   "id": "caac5c98",
   "metadata": {},
   "source": [
    "Far worse than the benchmark and the `ProcessPool`. I am not entirely sure why, but most lilelt because the interpreter is allowing only 1 thread to run or is creating an I/O bottleneck. "
   ]
  },
  {
   "cell_type": "markdown",
   "id": "65d5f0b3",
   "metadata": {},
   "source": [
    "### Using NUMBA"
   ]
  },
  {
   "cell_type": "markdown",
   "id": "84661284",
   "metadata": {},
   "source": [
    "I have used `numba` for JIT compilation for some of my programs for bootstrapping.  "
   ]
  },
  {
   "cell_type": "code",
   "execution_count": 26,
   "id": "3b5492d9",
   "metadata": {},
   "outputs": [
    {
     "name": "stdout",
     "output_type": "stream",
     "text": [
      "Wall time: 400 ms\n"
     ]
    },
    {
     "data": {
      "text/plain": [
       "array([-0.12330859, -5.99244525, -1.66685026, ..., -0.12572472,\n",
       "       -1.40916039, -7.05138736])"
      ]
     },
     "execution_count": 26,
     "metadata": {},
     "output_type": "execute_result"
    }
   ],
   "source": [
    "%%time\n",
    "@numba.jit(nopython=True, parallel=True)\n",
    "def f2(n):\n",
    "    x = np.random.random(n)\n",
    "    y = (x * np.sin(10*x) + np.tan(34*x) + np.log(x))\n",
    "    \n",
    "    \n",
    "    return y\n",
    "f2(int(1e7))"
   ]
  },
  {
   "cell_type": "markdown",
   "id": "5b40ba89",
   "metadata": {},
   "source": [
    "400 ms - so better than the bechmark but almost as good as the `ProcessPool` method"
   ]
  },
  {
   "cell_type": "code",
   "execution_count": 6,
   "id": "580b6927",
   "metadata": {},
   "outputs": [],
   "source": [
    "spark=( SparkSession.builder.master(\"local\")\n",
    "       .appName(\"processingtest\")\n",
    "       .getOrCreate()\n",
    "       )\n"
   ]
  },
  {
   "cell_type": "code",
   "execution_count": 7,
   "id": "60a02c38",
   "metadata": {},
   "outputs": [],
   "source": [
    "from pyspark.sql.types import FloatType\n",
    "from pyspark.sql.functions import udf\n"
   ]
  },
  {
   "cell_type": "code",
   "execution_count": null,
   "id": "8ef06644",
   "metadata": {},
   "outputs": [],
   "source": [
    "def f2(n):\n",
    "    x = np.random.random(n)\n",
    "    y = (x * np.sin(10*x) + np.tan(34*x) + np.log(x))\n",
    "    \n",
    "    \n",
    "    return y"
   ]
  },
  {
   "cell_type": "code",
   "execution_count": 8,
   "id": "75d4e43a",
   "metadata": {},
   "outputs": [],
   "source": [
    "n = int(1e7)\n",
    "df = pd.DataFrame({\"x\":np.random.random(n)})"
   ]
  },
  {
   "cell_type": "code",
   "execution_count": 9,
   "id": "37c02896",
   "metadata": {},
   "outputs": [
    {
     "data": {
      "text/html": [
       "<div>\n",
       "<style scoped>\n",
       "    .dataframe tbody tr th:only-of-type {\n",
       "        vertical-align: middle;\n",
       "    }\n",
       "\n",
       "    .dataframe tbody tr th {\n",
       "        vertical-align: top;\n",
       "    }\n",
       "\n",
       "    .dataframe thead th {\n",
       "        text-align: right;\n",
       "    }\n",
       "</style>\n",
       "<table border=\"1\" class=\"dataframe\">\n",
       "  <thead>\n",
       "    <tr style=\"text-align: right;\">\n",
       "      <th></th>\n",
       "      <th>x</th>\n",
       "    </tr>\n",
       "  </thead>\n",
       "  <tbody>\n",
       "    <tr>\n",
       "      <th>0</th>\n",
       "      <td>0.779242</td>\n",
       "    </tr>\n",
       "    <tr>\n",
       "      <th>1</th>\n",
       "      <td>0.484999</td>\n",
       "    </tr>\n",
       "    <tr>\n",
       "      <th>2</th>\n",
       "      <td>0.639646</td>\n",
       "    </tr>\n",
       "  </tbody>\n",
       "</table>\n",
       "</div>"
      ],
      "text/plain": [
       "          x\n",
       "0  0.779242\n",
       "1  0.484999\n",
       "2  0.639646"
      ]
     },
     "execution_count": 9,
     "metadata": {},
     "output_type": "execute_result"
    }
   ],
   "source": [
    "df.head(3)"
   ]
  },
  {
   "cell_type": "code",
   "execution_count": 10,
   "id": "7b217d3c",
   "metadata": {},
   "outputs": [],
   "source": [
    "def f3(x):\n",
    "    return (x * np.sin(10*x) + np.tan(34*x) + np.log(x))\n",
    "func_udf = udf(lambda x: f3(x), FloatType())\n",
    "\n",
    "df_spark = spark.createDataFrame(df)\n",
    "\n",
    "df_spark.withColumn(\"udf\",func_udf(\"x\"))"
   ]
  },
  {
   "cell_type": "code",
   "execution_count": 15,
   "id": "2c5fcc6f",
   "metadata": {},
   "outputs": [
    {
     "data": {
      "text/plain": [
       "DataFrame[x: double, udf: float]"
      ]
     },
     "execution_count": 15,
     "metadata": {},
     "output_type": "execute_result"
    }
   ],
   "source": []
  },
  {
   "cell_type": "markdown",
   "id": "d85bc8c2",
   "metadata": {},
   "source": [
    "Inspecting the Spark job shows execution time as 0.4s (400 ms), as good as numba and `ProcessPool`. Spark would be much more scalable. Th eonly challenge here is the data needs to be converted to a tabular/dataframe format first. For most business process modeling scenarios that's usually not required and is an added step."
   ]
  },
  {
   "cell_type": "code",
   "execution_count": 1,
   "id": "c0e6da7b",
   "metadata": {},
   "outputs": [],
   "source": [
    "spark.stop()"
   ]
  },
  {
   "cell_type": "markdown",
   "id": "95449e95",
   "metadata": {},
   "source": [
    "### References : \n",
    "\n",
    "1. https://medium.com/@nyomanpradipta120/why-you-should-use-threadpoolexecutor-instead-processpoolexecutor-based-on-ctf-challenge-f51e838df351\n",
    "\n",
    "2. https://docs.python.org/3/library/concurrent.futures.html\n",
    "\n",
    "\n"
   ]
  },
  {
   "cell_type": "code",
   "execution_count": null,
   "id": "30c004bd",
   "metadata": {},
   "outputs": [],
   "source": []
  }
 ],
 "metadata": {
  "kernelspec": {
   "display_name": "Python 3",
   "language": "python",
   "name": "python3"
  },
  "language_info": {
   "codemirror_mode": {
    "name": "ipython",
    "version": 3
   },
   "file_extension": ".py",
   "mimetype": "text/x-python",
   "name": "python",
   "nbconvert_exporter": "python",
   "pygments_lexer": "ipython3",
   "version": "3.6.10"
  }
 },
 "nbformat": 4,
 "nbformat_minor": 5
}
